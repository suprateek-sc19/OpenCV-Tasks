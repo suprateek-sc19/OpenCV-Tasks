{
 "cells": [
  {
   "cell_type": "code",
   "execution_count": 1,
   "metadata": {},
   "outputs": [
    {
     "name": "stdout",
     "output_type": "stream",
     "text": [
      "Using matplotlib backend: Qt5Agg\n"
     ]
    }
   ],
   "source": [
    "import sys \n",
    "import numpy as np\n",
    "import matplotlib.pyplot as plt\n",
    "import cv2\n",
    "import imutils\n",
    "import math\n",
    "from sklearn.cluster import KMeans\n",
    "%matplotlib"
   ]
  },
  {
   "cell_type": "code",
   "execution_count": 31,
   "metadata": {},
   "outputs": [],
   "source": [
    "def task1(image1):\n",
    "    image = cv2.imread(image1)\n",
    "    image = imutils.resize(image, width=600, height=480)\n",
    "    rgb = cv2.cvtColor(image, cv2.COLOR_BGR2RGB)\n",
    "    gray = cv2.cvtColor(image, cv2.COLOR_BGR2GRAY)\n",
    "    sift = cv2.xfeatures2d.SIFT_create()\n",
    "    keypoints, descriptors = sift.detectAndCompute(image,None)\n",
    "    img = cv2.drawKeypoints(gray,keypoints,image,color=(0,255,0),flags=cv2.DRAW_MATCHES_FLAGS_DRAW_RICH_KEYPOINTS)\n",
    "    return img, keypoints, rgb"
   ]
  },
  {
   "cell_type": "code",
   "execution_count": 32,
   "metadata": {},
   "outputs": [],
   "source": [
    "def drawKeyPts(im,keyp,th):\n",
    "    for curKey in keyp:\n",
    "        x=np.int(curKey.pt[0])\n",
    "        y=np.int(curKey.pt[1])\n",
    "        size = np.int(curKey.size)\n",
    "        cv2.drawMarker(im, (x, y), (255,0,0), markerSize = th,);  \n",
    "    return im    "
   ]
  },
  {
   "cell_type": "code",
   "execution_count": 33,
   "metadata": {},
   "outputs": [],
   "source": [
    "def draw(imgKey, rgb):\n",
    "    dpi = 80\n",
    "    height, width, depth = imgKey.shape\n",
    "    figsize = (width / float(dpi)*2), (height / float(dpi)*2)\n",
    "    figure = plt.subplots(figsize=figsize)\n",
    "    plt.subplot(1, 2, 1)\n",
    "    plt.axis('off')\n",
    "    plt.title(\"Original Image(rescaled)\")\n",
    "    plt.imshow(rgb)\n",
    "    plt.subplot(1, 2, 2)\n",
    "    plt.imshow(imgKey)\n",
    "    plt.axis('off')\n",
    "    plt.title(\"Image with highlighted keypoints\")\n",
    "    plt.subplots_adjust(wspace=0.025, hspace=0.05)\n",
    "    plt.show()"
   ]
  },
  {
   "cell_type": "code",
   "execution_count": 49,
   "metadata": {},
   "outputs": [
    {
     "name": "stdout",
     "output_type": "stream",
     "text": [
      "# of keypoints in img08.JPG is 4153\n"
     ]
    }
   ],
   "source": [
    "name = \"img08.JPG\"\n",
    "img, keypoints, rgb = task1(name)\n",
    "imWithCross = drawKeyPts(img,keypoints,7)\n",
    "print(\"# of keypoints in \" + name + \" is\", len(keypoints))\n",
    "draw(imWithCross, rgb)"
   ]
  },
  {
   "cell_type": "markdown",
   "metadata": {},
   "source": [
    "TASK 2"
   ]
  },
  {
   "cell_type": "code",
   "execution_count": 47,
   "metadata": {},
   "outputs": [],
   "source": [
    "def task2(img_array):\n",
    "    for i in range(len(img_array)):\n",
    "        img_array[i] = imutils.resize(img_array[i], width=600, height=480)\n",
    "    sift = cv2.xfeatures2d.SIFT_create()\n",
    "    keypoints_arr = []\n",
    "    descriptors_arr = [] \n",
    "    features = []\n",
    "    for i in img_array:\n",
    "        keypoints, descriptors = sift.detectAndCompute(i,None)\n",
    "        keypoints_arr.append(keypoints)\n",
    "        descriptors_arr.extend(descriptors)\n",
    "        features.append(descriptors)\n",
    "    total_keypoints = 0\n",
    "    for i in range(len(keypoints_arr)):\n",
    "        total_keypoints += len(keypoints_arr[i])\n",
    "        print(\"# of keypoints in image {} is {}\".format(i+1, len(keypoints_arr[i])))\n",
    "    print(\"Total # of keypoints are\", total_keypoints)\n",
    "    print(\"............................\")\n",
    "    k_count = 0\n",
    "    k_arr = [math.floor(0.05*total_keypoints), math.floor(0.1*total_keypoints), math.floor(0.2*total_keypoints)]\n",
    "    for k in k_arr:\n",
    "        kmeans = KMeans(n_clusters = k)\n",
    "        kmeans.fit(descriptors_arr)\n",
    "        histograms = []\n",
    "        for i in img_array:\n",
    "            histo = np.zeros(k)\n",
    "            kp, des = sift.detectAndCompute(i, None)\n",
    "            nkp = np.size(kp)\n",
    "            for d in des:\n",
    "                idx = kmeans.predict([d])\n",
    "                histo[idx] += 1/nkp\n",
    "            histograms.append(histo)\n",
    "        for i in range(len(histograms)):\n",
    "            histograms[i] = histograms[i].astype('float32') \n",
    "        distances = []\n",
    "        for i in range(len(histograms)):\n",
    "            dis = []\n",
    "            for j in range(len(histograms)):\n",
    "                dis.append(cv2.compareHist(histograms[i], histograms[j], cv2.HISTCMP_CHISQR))\n",
    "            distances.append(dis)\n",
    "        for i in range(len(histograms)):\n",
    "            for j in range(len(histograms)):\n",
    "                distances[i][j] = round(distances[i][j], 2)\n",
    "        ny = np.array(distances)\n",
    "        title = [\"A\", \"B\", \"C\"]\n",
    "#         for i in range(1, len(sys.argv)+1):\n",
    "#             title.append(sys.argv[i])\n",
    "        k_values = [5, 10, 20]\n",
    "        print(\"K = {}%*(total number of keypoints) = {}\".format(k_values[k_count], k))\n",
    "        k_count += 1\n",
    "        print(\"Dissimilarity matrix (Upper triangular matrix)\")\n",
    "        print(\"\\t\", end = \"\")\n",
    "        for i in title:\n",
    "            print(i, end = \"\\t\")\n",
    "        print(\"\\n\")\n",
    "        for i in range(len(histograms)):\n",
    "            print(title[i], end = \"\\t\")\n",
    "            for j in range(len(histograms)):\n",
    "                print(np.triu(ny,k=0)[i][j], end = \"\\t\")\n",
    "            print(\"\\n\")\n",
    "        print(\"\\n\")"
   ]
  },
  {
   "cell_type": "code",
   "execution_count": 48,
   "metadata": {},
   "outputs": [
    {
     "name": "stdout",
     "output_type": "stream",
     "text": [
      "# of keypoints in image 1 is 761\n",
      "# of keypoints in image 2 is 1260\n",
      "Total # of keypoints are 2021\n",
      "............................\n",
      "K = 5%*(total number of keypoints) = 101\n",
      "Dissimilarity matrix (Upper triangular matrix)\n",
      "\tA\tB\tC\t\n",
      "\n",
      "A\t0.0\t2.04\t\n",
      "\n",
      "B\t0.0\t0.0\t\n",
      "\n",
      "\n",
      "\n",
      "K = 10%*(total number of keypoints) = 202\n",
      "Dissimilarity matrix (Upper triangular matrix)\n",
      "\tA\tB\tC\t\n",
      "\n",
      "A\t0.0\t1.39\t\n",
      "\n",
      "B\t0.0\t0.0\t\n",
      "\n",
      "\n",
      "\n",
      "K = 20%*(total number of keypoints) = 404\n",
      "Dissimilarity matrix (Upper triangular matrix)\n",
      "\tA\tB\tC\t\n",
      "\n",
      "A\t0.0\t0.85\t\n",
      "\n",
      "B\t0.0\t0.0\t\n",
      "\n",
      "\n",
      "\n"
     ]
    }
   ],
   "source": [
    "count = len(sys.argv)-1\n",
    "img_array = []\n",
    "for i in range(1, len(sys.argv)+1):\n",
    "    img_array.append(cv2.imread(sys.argv[i]))\n",
    "\n",
    "imgs = [\"img14.JPG\", \"img15.JPG\"]\n",
    "img_array = []\n",
    "for i in range(len(imgs)):\n",
    "    img_array.append(cv2.imread(imgs[i]))\n",
    "task2(img_array)"
   ]
  },
  {
   "cell_type": "code",
   "execution_count": null,
   "metadata": {},
   "outputs": [],
   "source": []
  }
 ],
 "metadata": {
  "kernelspec": {
   "display_name": "Python 3",
   "language": "python",
   "name": "python3"
  },
  "language_info": {
   "codemirror_mode": {
    "name": "ipython",
    "version": 3
   },
   "file_extension": ".py",
   "mimetype": "text/x-python",
   "name": "python",
   "nbconvert_exporter": "python",
   "pygments_lexer": "ipython3",
   "version": "3.7.0"
  }
 },
 "nbformat": 4,
 "nbformat_minor": 4
}
